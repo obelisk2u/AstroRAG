{
 "cells": [
  {
   "cell_type": "code",
   "execution_count": 13,
   "metadata": {},
   "outputs": [],
   "source": [
    "import json, faiss, numpy as np, pandas as pd\n",
    "from sentence_transformers import SentenceTransformer, CrossEncoder\n",
    "from pathlib import Path\n",
    "import ipywidgets as W\n",
    "from IPython.display import display, Markdown\n",
    "\n",
    "def norm_paper(x: str) -> str:\n",
    "    return (x or \"\").replace(\"http://arxiv.org/abs/\",\"\").replace(\"https://arxiv.org/abs/\",\"\").replace(\"arXiv:\",\"\").strip()\n",
    "\n",
    "INDEX_PATH   = \"../../indexes/faiss_base/index.faiss\"\n",
    "META_PATH    = \"../../indexes/faiss_base/meta.jsonl\"\n",
    "RERANKER_DIR = \"../../outputs/reranker/minilm_ce_hard\"\n",
    "\n",
    "index = faiss.read_index(INDEX_PATH)\n",
    "\n",
    "docids, passages, paper_ids, titles = [], [], [], []\n",
    "with open(META_PATH) as f:\n",
    "    for line in f:\n",
    "        o = json.loads(line)\n",
    "        pid = norm_paper(o.get(\"paper_id\",\"\"))\n",
    "        cid = int(o.get(\"chunk_id\"))\n",
    "        title = o.get(\"title\", \"\").strip()\n",
    "        docids.append(f\"{pid}:{cid}\")\n",
    "        passages.append(o.get(\"passage\") or o.get(\"text\") or \"\")\n",
    "        paper_ids.append(pid)\n",
    "        titles.append(title)\n",
    "\n",
    "id2text  = dict(zip(docids, passages))\n",
    "id2paper = dict(zip(docids, paper_ids))\n",
    "id2title = dict(zip(docids, titles))\n",
    "dense = SentenceTransformer(\"sentence-transformers/all-MiniLM-L6-v2\")\n",
    "ce    = CrossEncoder(RERANKER_DIR)\n",
    "\n",
    "def snippet(txt: str, chars: int = 220) -> str:\n",
    "    return (txt[:chars] + \"…\") if len(txt) > chars else txt"
   ]
  },
  {
   "cell_type": "code",
   "execution_count": 14,
   "metadata": {},
   "outputs": [],
   "source": [
    "def dense_search(query: str, topk: int = 150):\n",
    "    qemb = dense.encode([query], normalize_embeddings=True)\n",
    "    D, I = index.search(np.asarray(qemb, dtype=\"float32\"), topk)\n",
    "    cand_ids  = [docids[i] for i in I[0]]\n",
    "    cand_txts = [passages[i] for i in I[0]]\n",
    "    return cand_ids, cand_txts, D[0].tolist()\n",
    "\n",
    "def ce_rerank(query: str, cand_ids, cand_txts, final_topk: int = 10):\n",
    "    pairs = [[query, t] for t in cand_txts]\n",
    "    scores = ce.predict(pairs)\n",
    "    order  = np.argsort(-np.array(scores))[:final_topk]\n",
    "    reranked = [(cand_ids[i], float(scores[i])) for i in order]\n",
    "    return reranked, scores\n",
    "\n",
    "def neighbor_chunks(docid: str, k: int = 1):\n",
    "    paper, chunk = docid.split(\":\")\n",
    "    chunk = int(chunk)\n",
    "    out = []\n",
    "    for c in range(chunk - k, chunk + k + 1):\n",
    "        key = f\"{paper}:{c}\"\n",
    "        if key in id2text:\n",
    "            out.append((key, id2text[key]))\n",
    "    return out"
   ]
  },
  {
   "cell_type": "code",
   "execution_count": 15,
   "metadata": {},
   "outputs": [],
   "source": [
    "def search_and_show(query: str, faiss_topk: int = 150, final_topk: int = 10):\n",
    "    cand_ids, cand_txts, dense_scores = dense_search(query, topk=faiss_topk)\n",
    "    \n",
    "    ce_ranked, ce_scores_full = ce_rerank(query, cand_ids, cand_txts, final_topk=final_topk)\n",
    "\n",
    "    results = []\n",
    "    for rank, (docid, score) in enumerate(ce_ranked, start=1):\n",
    "        paper_id = id2paper.get(docid, \"\")\n",
    "        title = id2title.get(docid, \"\")\n",
    "        snippet_text = snippet(id2text.get(docid, \"\"))\n",
    "        link = f\"https://arxiv.org/abs/{paper_id}\" if paper_id else \"\"\n",
    "        results.append({\n",
    "            \"rank_ce\": rank,\n",
    "            \"score_ce\": round(score, 4),\n",
    "            \"title\": title,\n",
    "            \"snippet\": snippet_text,\n",
    "            \"link\": link\n",
    "        })\n",
    "    \n",
    "    df = pd.DataFrame(results, columns=[\"rank_ce\", \"score_ce\", \"title\", \"snippet\", \"link\"])\n",
    "    return df"
   ]
  },
  {
   "cell_type": "code",
   "execution_count": 20,
   "metadata": {},
   "outputs": [
    {
     "data": {
      "application/vnd.jupyter.widget-view+json": {
       "model_id": "ce46bc34cc154c33963d3cd47048e1ae",
       "version_major": 2,
       "version_minor": 0
      },
      "text/plain": [
       "VBox(children=(Text(value='stellar metallicity gradient open clusters', description='Query:', layout=Layout(wi…"
      ]
     },
     "metadata": {},
     "output_type": "display_data"
    }
   ],
   "source": [
    "q_box = W.Text(\n",
    "    value=\"stellar metallicity gradient open clusters\",\n",
    "    placeholder=\"Type a query…\",\n",
    "    description=\"Query:\",\n",
    "    layout=W.Layout(width=\"100%\")\n",
    ")\n",
    "ce_k    = W.IntSlider(value=10,  min=5,  max=50,  step=1,  description=\"CE topK\")\n",
    "btn     = W.Button(description=\"Search\", button_style=\"primary\")\n",
    "out     = W.Output()\n",
    "\n",
    "def on_click(_):\n",
    "    out.clear_output()\n",
    "    with out:\n",
    "        df = search_and_show(q_box.value, faiss_topk=faiss_k.value, final_topk=ce_k.value)\n",
    "        display(Markdown(f\"### Query: `{q_box.value}`\\n\"))\n",
    "        for _, row in df.iterrows():\n",
    "            title_md = f\"[{row['title']}]({row['link']})\" if row['link'] else row['title']\n",
    "            display(Markdown(f\"**{row['rank_ce']}. {title_md}**  \\n\"\n",
    "                             f\"_Score:_ {row['score_ce']}  \\n\"\n",
    "                             f\"{row['snippet']}\\n---\"))\n",
    "\n",
    "btn.on_click(on_click)\n",
    "display(W.VBox([q_box, W.HBox([ce_k, btn]), out]))"
   ]
  }
 ],
 "metadata": {
  "kernelspec": {
   "display_name": "Python 3",
   "language": "python",
   "name": "python3"
  },
  "language_info": {
   "codemirror_mode": {
    "name": "ipython",
    "version": 3
   },
   "file_extension": ".py",
   "mimetype": "text/x-python",
   "name": "python",
   "nbconvert_exporter": "python",
   "pygments_lexer": "ipython3",
   "version": "3.10.12"
  }
 },
 "nbformat": 4,
 "nbformat_minor": 2
}
