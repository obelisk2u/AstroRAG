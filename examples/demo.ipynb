{
 "cells": [
  {
   "cell_type": "markdown",
   "id": "b8e5b70b",
   "metadata": {},
   "source": [
    "# AstroRAG Demo (Toy Index)\n",
    "\n",
    "Lightweight demo that searches a tiny toy index (no external models required).\n",
    "\n",
    "Try queries like:\n",
    "\n",
    "- `\"dark matter halos\"`\n",
    "- `\"fast radio bursts\"`\n",
    "- `\"gravitational wave background\"`\n",
    "- `\"exoplanet atmosphere\"`\n"
   ]
  },
  {
   "cell_type": "code",
   "execution_count": 3,
   "id": "1c50fc23",
   "metadata": {},
   "outputs": [
    {
     "name": "stdout",
     "output_type": "stream",
     "text": [
      "Collecting numpy\n",
      "  Downloading numpy-2.3.3-cp312-cp312-win_amd64.whl.metadata (60 kB)\n",
      "Downloading numpy-2.3.3-cp312-cp312-win_amd64.whl (12.8 MB)\n",
      "   ---------------------------------------- 0.0/12.8 MB ? eta -:--:--\n",
      "   -------------- ------------------------- 4.7/12.8 MB 40.9 MB/s eta 0:00:01\n",
      "   ---------------------------------------  12.6/12.8 MB 35.9 MB/s eta 0:00:01\n",
      "   ---------------------------------------- 12.8/12.8 MB 33.4 MB/s  0:00:00\n",
      "Installing collected packages: numpy\n",
      "Successfully installed numpy-2.3.3\n"
     ]
    }
   ],
   "source": [
    "!pip install numpy"
   ]
  },
  {
   "cell_type": "code",
   "execution_count": 9,
   "id": "6ed15863",
   "metadata": {},
   "outputs": [
    {
     "name": "stdout",
     "output_type": "stream",
     "text": [
      "c:\\Users\\jdsto\\OneDrive\\Desktop\\repos\\AstroRAG\\examples\n",
      "Loaded 10 passages with embedding dim=40\n",
      "Model: demo-keyword-embedding (toy, not SentenceTransformer)\n",
      "\n",
      "Query: dwarf galaxies dark\n",
      "\n",
      "[1] score=0.707  Dark matter halos in dwarf galaxies (astro-ph.GA)\n",
      "We analyze the density profiles of dark matter halos in nearby dwarf galaxies and compare core vs cusp scenarios using stellar kinematics.\n",
      "--------------------------------------------------------------------------------\n",
      "[2] score=0.316  Dark energy equation of state from BAO and SNe (astro-ph.CO)\n",
      "Combining baryon acoustic oscillations with Type Ia supernova distances we obtain constraints on a time-varying dark energy equation of state.\n",
      "--------------------------------------------------------------------------------\n",
      "[3] score=0.000  Exoplanet atmospheric retrieval with transmission spectra (astro-ph.EP)\n",
      "Using near-infrared transmission spectroscopy we retrieve molecular abundances and cloud properties in warm Neptune exoplanet atmospheres.\n",
      "--------------------------------------------------------------------------------\n",
      "[4] score=0.000  Fast Radio Bursts from magnetars (astro-ph.HE)\n",
      "We model repeating fast radio bursts as magnetar-driven magnetospheric reconnection events and explore dispersion and scattering in host galaxies.\n",
      "--------------------------------------------------------------------------------\n",
      "[5] score=0.000  Gravitational wave background from supermassive binaries (astro-ph.CO)\n",
      "Pulsar timing array signals suggest a stochastic gravitational wave background produced by inspiraling supermassive black hole binaries.\n",
      "--------------------------------------------------------------------------------\n"
     ]
    }
   ],
   "source": [
    "import json, numpy as np\n",
    "from pathlib import Path\n",
    "import os\n",
    "print(os.getcwd())\n",
    "\n",
    "IDX_DIR = Path('toy_indexes')\n",
    "EMB = np.load(IDX_DIR / 'embeddings.npy')  # (N, D)\n",
    "META = [json.loads(l) for l in open(IDX_DIR / 'meta.jsonl')]\n",
    "MODEL = open(IDX_DIR / 'model.txt').read().strip()\n",
    "print(f'Loaded {len(META)} passages with embedding dim={EMB.shape[1]}')\n",
    "print('Model:', MODEL)\n",
    "\n",
    "keywords = [\n",
    "    'dark','matter','halo','dwarf','galaxy','fast','radio','burst','magnetar',\n",
    "    'exoplanet','atmosphere','transmission','spectra','gravitational','wave','background',\n",
    "    'pulsar','supermassive','binary','cosmic','ray','star','formation','alma','disk',\n",
    "    'ring','gap','bao','supernova','dark energy','equation','state','agn','cluster',\n",
    "    'feedback','kilonova','r-process','opacity','neutron','merger'\n",
    "]\n",
    "\n",
    "def embed_query(q: str):\n",
    "    v = np.zeros(len(keywords), dtype=np.float32)\n",
    "    t = q.lower()\n",
    "    for i, kw in enumerate(keywords):\n",
    "        if kw in t:\n",
    "            v[i] = 1.0\n",
    "    n = np.linalg.norm(v)\n",
    "    return v / n if n > 0 else v\n",
    "\n",
    "def search(q: str, topk=5):\n",
    "    qv = embed_query(q)\n",
    "    if np.linalg.norm(qv) == 0:\n",
    "        print('Query has no matching keywords in toy vocab; try another phrase.')\n",
    "        return\n",
    "    scores = (EMB @ qv)\n",
    "    idxs = np.argsort(-scores)[:topk]\n",
    "    print(f'\\nQuery: {q}\\n')\n",
    "    for rank, i in enumerate(idxs, 1):\n",
    "        rec = META[i]\n",
    "        print(f'[{rank}] score={scores[i]:.3f}  {rec[\"title\"]} ({rec[\"category\"]})')\n",
    "        txt = rec['passage']\n",
    "        print((txt[:220] + '...') if len(txt) > 220 else txt)\n",
    "        print('-'*80)\n",
    "\n",
    "# Example searches\n",
    "search('dwarf galaxies dark')\n",
    "# search('fast radio bursts magnetars')\n",
    "# search('gravitational wave background')\n",
    "# search('exoplanet atmosphere spectra')\n"
   ]
  }
 ],
 "metadata": {
  "kernelspec": {
   "display_name": "venv",
   "language": "python",
   "name": "python3"
  },
  "language_info": {
   "codemirror_mode": {
    "name": "ipython",
    "version": 3
   },
   "file_extension": ".py",
   "mimetype": "text/x-python",
   "name": "python",
   "nbconvert_exporter": "python",
   "pygments_lexer": "ipython3",
   "version": "3.12.6"
  }
 },
 "nbformat": 4,
 "nbformat_minor": 5
}
